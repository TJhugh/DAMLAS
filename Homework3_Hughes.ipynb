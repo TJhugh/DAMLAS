{
 "cells": [
  {
   "cell_type": "code",
   "execution_count": 80,
   "metadata": {
    "collapsed": false
   },
   "outputs": [
    {
     "data": {
      "application/javascript": [
       "/**********************************************************************************************\n",
       "Known Mathjax Issue with Chrome - a rounding issue adds a border to the right of mathjax markup\n",
       "https://github.com/mathjax/MathJax/issues/1300\n",
       "A quick hack to fix this based on stackoverflow discussions: \n",
       "http://stackoverflow.com/questions/34277967/chrome-rendering-mathjax-equations-with-a-trailing-vertical-line\n",
       "**********************************************************************************************/\n",
       "\n",
       "$('.math>span').css(\"border-left-color\",\"transparent\")"
      ],
      "text/plain": [
       "<IPython.core.display.Javascript object>"
      ]
     },
     "metadata": {},
     "output_type": "display_data"
    }
   ],
   "source": [
    "%%javascript\n",
    "/**********************************************************************************************\n",
    "Known Mathjax Issue with Chrome - a rounding issue adds a border to the right of mathjax markup\n",
    "https://github.com/mathjax/MathJax/issues/1300\n",
    "A quick hack to fix this based on stackoverflow discussions: \n",
    "http://stackoverflow.com/questions/34277967/chrome-rendering-mathjax-equations-with-a-trailing-vertical-line\n",
    "**********************************************************************************************/\n",
    "\n",
    "$('.math>span').css(\"border-left-color\",\"transparent\")"
   ]
  },
  {
   "cell_type": "code",
   "execution_count": 1,
   "metadata": {
    "collapsed": true
   },
   "outputs": [],
   "source": [
    "%reload_ext autoreload\n",
    "%autoreload 2"
   ]
  },
  {
   "cell_type": "markdown",
   "metadata": {},
   "source": [
    "# DAMLAS - Machine Learning At Scale\n",
    "## Assignment - HW3\n",
    "Data Analytics and Machine Learning at Scale\n",
    "Target, Minneapolis\n",
    "\n",
    "---\n",
    "__Name:__  Thomas Hughes   \n",
    "__Class:__ DAMLAS (Section Summer 2016)     \n",
    "__Email:__  Thomas.Hughes@Target.com     \n",
    "__Week:__   03"
   ]
  },
  {
   "cell_type": "markdown",
   "metadata": {},
   "source": [
    "# Table of Contents <a name=\"TOC\"></a> \n",
    "\n",
    "1.  [HW Introduction](#1)   \n",
    "2.  [HW References](#2)\n",
    "3.  [HW Problems](#3)   \n",
    "    3.0.  [Short Answer Questions](#HW3.0)    \n",
    "    3.1.  [Word Count plus sorting](#HW3.1)   \n",
    "    3.2.  [MLlib-centric Kmeans](#HW3.2)    \n",
    "    3.3.  [Homegrown KMeans in Spark](#HW3.3)    \n",
    "    3.4.  [Making Homegrown KMeans more efficient](#HW3.4)  \n",
    "    3.5.  [OPTIONAL Weighted KMeans](#HW3.5)  \n",
    "    3.6.  [OPTIONAL Linear Regression](#HW3.6)  \n",
    "    3.7.  [OPTIONAL Error surfaces](#HW3.7)\n"
   ]
  },
  {
   "cell_type": "markdown",
   "metadata": {},
   "source": [
    "\n",
    "<a name=\"1\">\n",
    "# 1 Instructions\n",
    "[Back to Table of Contents](#TOC)\n",
    "* Homework submissions are due by Tueday, 08/02/2016 at 11AM (CT).\n",
    "\n",
    "\n",
    "* Prepare a single Jupyter note, please include questions, and question numbers in the questions and in the responses.\n",
    "Submit your homework notebook via the following form:\n",
    "\n",
    "   + [Submission Link - Google Form](http://goo.gl/forms/er3OFr5eCMWDngB72)\n",
    "\n",
    "\n",
    "### Documents:\n",
    "* IPython Notebook, published and viewable online.\n",
    "* PDF export of IPython Notebook.\n",
    "    \n",
    "<a name=\"2\">\n",
    "# 2 Useful References\n",
    "[Back to Table of Contents](#TOC)\n",
    "\n",
    "* Karau, Holden, Konwinski, Andy, Wendell, Patrick, & Zaharia, Matei. (2015). Learning Spark: Lightning-fast big data analysis. Sebastopol, CA: O’Reilly Publishers.\n",
    "* Hastie, Trevor, Tibshirani, Robert, & Friedman, Jerome. (2009). The elements of statistical learning: Data mining, inference, and prediction (2nd ed.). Stanford, CA: Springer Science+Business Media. __(Download for free [here](http://statweb.stanford.edu/~tibs/ElemStatLearn/printings/ESLII_print10.pdf))__\n",
    "* Ryza, Sandy, Laserson, Uri, Owen, Sean, & Wills, Josh. (2015). Advanced analytics with Spark: Patterns for learning from data at scale. Sebastopol, CA: O’Reilly Publishers.\n",
    "---\n",
    "* [Slides for Supervised-ML-Classification-via-GradientDescent](https://www.dropbox.com/s/uzoch1dwft8kaqw/Lecture-15-Supervised-ML-Classification-via-GradientDescent.pdf?dl=0)\n",
    "* [Slides from High Entropy Friday]( https://www.dropbox.com/s/0dlvsff3660vvbk/Lecture-High-Entropy-Friday.pdf?dl=0)\n",
    "\n",
    "---"
   ]
  },
  {
   "cell_type": "markdown",
   "metadata": {},
   "source": [
    "<a name=\"HW3\">\n",
    "# 3 HW Problems\n",
    "[Back to Table of Contents](#TOC)"
   ]
  },
  {
   "cell_type": "markdown",
   "metadata": {},
   "source": [
    "<a name=\"3.0\"></a><h2 style=\"color:darkblue\"> HW3.0: Short answer questions </h2>\n",
    "[Back to Table of Contents](#TOC)\n",
    "\n",
    "\n",
    "__What is Apache Spark and how is it different to Apache Hadoop? __\n",
    "\n",
    "*Apache Spark is a cluster-computing framework.  It is different from Hadoop in a couple ways.  First, Spark does not have a distributed file system like HDFS.  Rather, Spark relies on other file systems to read and store data.  Second, Spark makes more efficient use of memory versus Hadoop.  Spark caches information which makes calling that data much faster.  Third, Spark easily interfaces with the languages listed below making it much easier to learn than Hadoop\n",
    "\n",
    "__Fill in the blanks:\n",
    "Spark API consists of interfaces to develop applications based on it in Java, ___ BLANKS __ languages (list languages). __\n",
    "\n",
    "*Java, Scala, Python and R*\n",
    "\n",
    "<hr>\n",
    "\n",
    "__Using Spark, resource management can be done either in a single server instance or using a framework such as Mesos or ????? in a distributed manner. __\n",
    "\n",
    "*YARN*  \n",
    "*Spark also has its own \"standalone\" cluster manager*\n",
    "\n",
    "<hr>\n",
    "\n",
    "__What is an RDD and show a fun example of creating one and bringing the first element back to the driver program. __\n",
    "\n",
    "*A RDD is a Resilient Distributed Dataset.  It is the \"backbone\" of Spark. It is set up with partitions allowing for distributed computing within a cluster. The example is below*\n",
    "<hr>\n"
   ]
  },
  {
   "cell_type": "code",
   "execution_count": 2,
   "metadata": {
    "collapsed": false
   },
   "outputs": [
    {
     "name": "stdout",
     "output_type": "stream",
     "text": [
      "<pyspark.context.SparkContext object at 0x0000000003D03BA8>\n",
      "<pyspark.sql.context.SQLContext object at 0x000000000800DCC0>\n"
     ]
    }
   ],
   "source": [
    "import os\n",
    "import sys #current as of 9/26/2015\n",
    "\n",
    "spark_home = os.environ['SPARK_HOME'] = 'c:/Apps/Spark/Spark_1.6.2/'\n",
    "if not spark_home:\n",
    "    raise ValueError('SPARK_HOME enviroment variable is not set')\n",
    "sys.path.insert(0,os.path.join(spark_home,'python'))\n",
    "sys.path.insert(0,os.path.join(spark_home,'python/lib/py4j-0.9-src.zip'))\n",
    "\n",
    "\n",
    "import pyspark\n",
    "from pyspark.sql import SQLContext\n",
    "\n",
    "app_name = \"example-logs\"\n",
    "master = \"local[*]\"\n",
    "conf = pyspark.SparkConf().setAppName(app_name).setMaster(master)\n",
    "sc = pyspark.SparkContext(conf=conf)\n",
    "sqlContext = SQLContext(sc)\n",
    "\n",
    "\n",
    "print(sc)\n",
    "print(sqlContext)\n",
    "\n",
    "\n",
    "# Import some libraries to work with dates\n",
    "import dateutil.parser\n",
    "import dateutil.relativedelta as dateutil_rd"
   ]
  },
  {
   "cell_type": "code",
   "execution_count": 2,
   "metadata": {
    "collapsed": false
   },
   "outputs": [
    {
     "data": {
      "text/plain": [
       "'Teenage'"
      ]
     },
     "execution_count": 2,
     "metadata": {},
     "output_type": "execute_result"
    }
   ],
   "source": [
    "rdd = sc.parallelize([\"Teenage\",  \"Mutant\", \"Ninja\",  \"Turtles\", \n",
    "                      \"Teenage\",  \"Mutant\", \"Ninja\",  \"Turtles\", \n",
    "                      \"Heroes\", \"In\", \"A\", \"Half-Shell\", \"Turtle\", \"Power\"], 5)\n",
    "\n",
    "rdd.first()"
   ]
  },
  {
   "cell_type": "markdown",
   "metadata": {},
   "source": [
    "<a name=\"HW3.1\"> <h2 style=\"color:darkgreen\">HW3.1 WordCount plus sorting </h2>\n",
    "[Back to Table of Contents](#TOC)\n",
    "\n",
    "The following notebooks will be useful to jumpstart this collection of Homework exercises:\n",
    "\n",
    "\n",
    "* [Example Notebook with Debugging tactics in Spark](http://nbviewer.jupyter.org/urls/dl.dropbox.com/s/jqjllp8kmf1eolk/WordCountDebugging-Example.ipynb)\n",
    "* [Word Count Quiz](http://nbviewer.jupyter.org/urls/dl.dropbox.com/s/vgmpivsi4rvqz0s/WordCountQuiz.ipynb)\n",
    "* [Work Count Solution](http://nbviewer.jupyter.org/urls/dl.dropbox.com/s/dxv3dmp1vluuo8i/WordCountQuiz-Solution.ipynb)\n",
    "\n",
    "---\n",
    "In Spark write the code to count how often each word appears in a text document (or set of documents). Please use this homework document (with no solutions in it) as a the example document to run an experiment.  Report the following: \n",
    "* provide a sorted list of tokens in decreasing order of frequency of occurence limited to [top 20 most frequent only] and [bottom 10 least frequent]. \n",
    "\n",
    "\n",
    "__OPTIONAL__ \n",
    "Feel free to do a secondary sort where words with the same frequncy are sorted alphanumerically increasing. Plseas refer to the [following notebook](http://nbviewer.jupyter.org/urls/dl.dropbox.com/s/uu5afr3ufpm9fy8/SecondarySort.ipynb)\n",
    " for examples of secondary sorts in Spark. Please provide the following [top 20 most frequent terms only] and [bottom 10 least frequent terms]\n",
    "\n",
    "__NOTE__ [Please incorporate all referenced notebooks directly into this master notebook as cells for HW submission. I.e., HW submissions should comprise of just one notebook]__"
   ]
  },
  {
   "cell_type": "code",
   "execution_count": 106,
   "metadata": {
    "collapsed": false
   },
   "outputs": [
    {
     "name": "stdout",
     "output_type": "stream",
     "text": [
      "Top 20 words:[(u'the', 75), (u'of', 50), (u'and', 40), (u'in', 34), (u'to', 33), (u'a', 24), (u'code', 21), (u'this', 17), (u'table', 17), (u'kmeans', 17), (u'here', 17), (u'for', 17), (u'contents', 17), (u'back', 17), (u'with', 16), (u'data', 16), (u'notebook', 15), (u'using', 14), (u'plot', 14), (u'as', 14)]\n",
      "Bottom 10 words:[(u'31', 1), (u'2nd', 1), (u'2hw', 1), (u'2016', 1), (u'2009', 1), (u'1||x||', 1), (u'1hw', 1), (u'11am', 1), (u'08022016', 1), (u'03', 1)]\n"
     ]
    }
   ],
   "source": [
    "import sys, re, string, operator\n",
    "\n",
    "def removePunctuation(text):\n",
    "    \"\"\"Removes punctuation, changes to lowercase, and strips leading and trailing spaces.\n",
    "    Note:\n",
    "        Only spaces, letters, and numbers should be retained.  Other characters should should be\n",
    "        eliminated. (e.g. it's becomes its)\n",
    "    Args:\n",
    "        text (str): A string.\n",
    "    Returns:\n",
    "        str: The cleaned up string.\n",
    "    \"\"\"\n",
    "    return re.sub('[^a-z| |0-9]', '', text.strip().lower())\n",
    "\n",
    "wc = (sc.textFile('HW3.txt').map(removePunctuation))\n",
    "\n",
    "\n",
    "counts = wc.flatMap(lambda line: line.split(\" \")) \\\n",
    "             .filter(lambda word: word != '') \\\n",
    "             .map(lambda word: (word, 1)) \\\n",
    "             .reduceByKey(lambda a, b: a + b) \\\n",
    "             .sortBy(lambda a: (a[1], a[0]), 0)\n",
    "wordCounts = counts.collect()\n",
    "\n",
    "print \"Top 20 words:\" + str(wordCounts[:20])\n",
    "\n",
    "print \"Bottom 10 words:\" + str(wordCounts[-10:])\n",
    "\n"
   ]
  },
  {
   "cell_type": "code",
   "execution_count": 83,
   "metadata": {
    "collapsed": true
   },
   "outputs": [],
   "source": [
    "## Drivers & Runners"
   ]
  },
  {
   "cell_type": "code",
   "execution_count": 84,
   "metadata": {
    "collapsed": true
   },
   "outputs": [],
   "source": [
    "## Run Scripts, S3 Sync"
   ]
  },
  {
   "cell_type": "markdown",
   "metadata": {},
   "source": [
    "<a name=\"HW3.1.1\"><h2 style=\"color:darkgreen\">HW3.1.1 </h2>\n",
    "[Back to Table of Contents](#TOC)\n",
    "\n",
    "Modify the above word count code to count words that begin with lower case letters (a-z) and report your findings. Again sort the output words in decreasing order of frequency.\n"
   ]
  },
  {
   "cell_type": "code",
   "execution_count": 167,
   "metadata": {
    "collapsed": false
   },
   "outputs": [
    {
     "name": "stdout",
     "output_type": "stream",
     "text": [
      "(u'the', 71)\n",
      "(u'of', 49)\n",
      "(u'and', 40)\n",
      "(u'to', 33)\n",
      "(u'in', 32)\n",
      "(u'a', 23)\n",
      "(u'this', 17)\n",
      "(u'for', 17)\n",
      "(u'with', 16)\n",
      "(u'data', 14)\n",
      "(u'as', 14)\n",
      "(u'plot', 12)\n",
      "(u'notebook', 12)\n",
      "(u'model', 12)\n",
      "(u'here', 12)\n",
      "(u'code', 12)\n",
      "(u'is', 10)\n",
      "(u'goes', 9)\n",
      "(u'your', 8)\n",
      "(u'space', 8)\n",
      "(u'regression', 8)\n",
      "(u'on', 7)\n",
      "(u'linear', 7)\n",
      "(u'iteration', 7)\n",
      "(u'from', 7)\n",
      "(u'following', 7)\n",
      "(u'each', 7)\n",
      "(u'using', 6)\n",
      "(u'provided', 6)\n",
      "(u'one', 6)\n",
      "(u'iterations', 6)\n",
      "(u'it', 6)\n",
      "(u'domain', 6)\n",
      "(u'clusters', 6)\n",
      "(u'words', 5)\n",
      "(u'training', 5)\n",
      "(u'plots', 5)\n",
      "(u'x', 4)\n",
      "(u'submissions', 4)\n",
      "(u'side', 4)\n",
      "(u'set', 4)\n",
      "(u'notebooks', 4)\n",
      "(u'more', 4)\n",
      "(u'function', 4)\n",
      "(u'frequent', 4)\n",
      "(u'efficient', 4)\n",
      "(u'at', 4)\n",
      "(u'above', 4)\n",
      "(u'that', 3)\n",
      "(u'submission', 3)\n",
      "(u'show', 3)\n",
      "(u'should', 3)\n",
      "(u'results', 3)\n",
      "(u'report', 3)\n",
      "(u'referenced', 3)\n",
      "(u'questions', 3)\n",
      "(u'or', 3)\n",
      "(u'most', 3)\n",
      "(u'master', 3)\n",
      "(u'list', 3)\n",
      "(u'learning', 3)\n",
      "(u'just', 3)\n",
      "(u'into', 3)\n",
      "(u'incorporate', 3)\n",
      "(u'import', 3)\n",
      "(u'homegrown', 3)\n",
      "(u'findings', 3)\n",
      "(u'example', 3)\n",
      "(u'document', 3)\n",
      "(u'directly', 3)\n",
      "(u'count', 3)\n",
      "(u'comprise', 3)\n",
      "(u'cells', 3)\n",
      "(u'by', 3)\n",
      "(u'all', 3)\n",
      "(u'after', 3)\n",
      "(u'you', 2)\n",
      "(u'y', 2)\n",
      "(u'work', 2)\n",
      "(u'word', 2)\n",
      "(u'where', 2)\n",
      "(u'vector', 2)\n",
      "(u'use', 2)\n",
      "(u'up', 2)\n",
      "(u'trajectory', 2)\n",
      "(u'top', 2)\n",
      "(u'testing', 2)\n",
      "(u'terms', 2)\n",
      "(u'surfaces', 2)\n",
      "(u'surface', 2)\n",
      "(u'sorting', 2)\n",
      "(u'sorted', 2)\n",
      "(u'sort', 2)\n",
      "(u'snippet', 2)\n",
      "(u'single', 2)\n",
      "(u'secondary', 2)\n",
      "(u'run', 2)\n",
      "(u'repeat', 2)\n",
      "(u'provide', 2)\n",
      "(u'points', 2)\n",
      "(u'point', 2)\n",
      "(u'plus', 2)\n",
      "(u'please', 2)\n",
      "(u'output', 2)\n",
      "(u'original', 2)\n",
      "(u'order', 2)\n",
      "(u'only', 2)\n",
      "(u'numbers', 2)\n",
      "(u'number', 2)\n",
      "(u'myModelPath', 2)\n",
      "(u'least', 2)\n",
      "(u'languages', 2)\n",
      "(u'label', 2)\n",
      "(u'kmeansdatatxt', 2)\n",
      "(u'inspiration', 2)\n",
      "(u'httpswwwdropboxcomsq85t0ytb9apggnhkmeansdatatxtdl0', 2)\n",
      "(u'how', 2)\n",
      "(u'homework', 2)\n",
      "(u'heatmap', 2)\n",
      "(u'frequency', 2)\n",
      "(u'free', 2)\n",
      "(u'found', 2)\n",
      "(u'follows', 2)\n",
      "(u'every', 2)\n",
      "(u'error', 2)\n",
      "(u'eg', 2)\n",
      "(u'do', 2)\n",
      "(u'differences', 2)\n",
      "(u'decreasing', 2)\n",
      "(u'cluster', 2)\n",
      "(u'center', 2)\n",
      "(u'can', 2)\n",
      "(u'bottom', 2)\n",
      "(u'blanks', 2)\n",
      "(u'between', 2)\n",
      "(u'be', 2)\n",
      "(u'based', 2)\n",
      "(u'available', 2)\n",
      "(u'autoreload', 2)\n",
      "(u'are', 2)\n",
      "(u'any', 2)\n",
      "(u'an', 2)\n",
      "(u'||X||', 1)\n",
      "(u'|X||', 1)\n",
      "(u'write', 1)\n",
      "(u'will', 1)\n",
      "(u'weighted', 1)\n",
      "(u'weightX', 1)\n",
      "(u'w01', 1)\n",
      "(u'viewable', 1)\n",
      "(u'via', 1)\n",
      "(u'versus', 1)\n",
      "(u'values', 1)\n",
      "(u'useful', 1)\n",
      "(u'two', 1)\n",
      "(u'tune', 1)\n",
      "(u'train', 1)\n",
      "(u'tokens', 1)\n",
      "(u'title', 1)\n",
      "(u'them', 1)\n",
      "(u'text', 1)\n",
      "(u'test', 1)\n",
      "(u'taken', 1)\n",
      "(u'tactics', 1)\n",
      "(u'sure', 1)\n",
      "(u'such', 1)\n",
      "(u'strWSSSE', 1)\n",
      "(u'statistical', 1)\n",
      "(u'stackoverflow', 1)\n",
      "(u'sqrtsumx2', 1)\n",
      "(u'sqrt', 1)\n",
      "(u'spacew0', 1)\n",
      "(u'sorts', 1)\n",
      "(u'solutions', 1)\n",
      "(u'showing', 1)\n",
      "(u'sets', 1)\n",
      "(u'server', 1)\n",
      "(u'separate', 1)\n",
      "(u'sctextFilekmeansdatatxt', 1)\n",
      "(u'script', 1)\n",
      "(u'scale', 1)\n",
      "(u'sample', 1)\n",
      "(u'sameModel', 1)\n",
      "(u'same', 1)\n",
      "(u'runs10', 1)\n",
      "(u'runs', 1)\n",
      "(u'rounding', 1)\n",
      "(u'righthand', 1)\n",
      "(u'right', 1)\n",
      "(u'return', 1)\n",
      "(u'resulting', 1)\n",
      "(u'responses', 1)\n",
      "(u'resource', 1)\n",
      "(u'reloadext', 1)\n",
      "(u'regularization', 1)\n",
      "(u'refer', 1)\n",
      "(u'quick', 1)\n",
      "(u'question', 1)\n",
      "(u'pysparkmllibclustering', 1)\n",
      "(u'published', 1)\n",
      "(u'progress', 1)\n",
      "(u'program', 1)\n",
      "(u'problem', 1)\n",
      "(u'printWithin', 1)\n",
      "(u'prediction', 1)\n",
      "(u'possibly', 1)\n",
      "(u'possible', 1)\n",
      "(u'per', 1)\n",
      "(u'part', 1)\n",
      "(u'parsedDatamaplambda', 1)\n",
      "(u'parsedData', 1)\n",
      "(u'parse', 1)\n",
      "(u'parameters', 1)\n",
      "(u'pair', 1)\n",
      "(u'other', 1)\n",
      "(u'online', 1)\n",
      "(u'often', 1)\n",
      "(u'occurence', 1)\n",
      "(u'numpy', 1)\n",
      "(u'note', 1)\n",
      "(u'not', 1)\n",
      "(u'norm', 1)\n",
      "(u'no', 1)\n",
      "(u'niterations', 1)\n",
      "(u'modify', 1)\n",
      "(u'mining', 1)\n",
      "(u'measure', 1)\n",
      "(u'maxIterations10', 1)\n",
      "(u'mathspancssborderleftcolortransparent', 1)\n",
      "(u'mathjax', 1)\n",
      "(u'math', 1)\n",
      "(u'markup', 1)\n",
      "(u'manner', 1)\n",
      "(u'management', 1)\n",
      "(u'make', 1)\n",
      "(u'made', 1)\n",
      "(u'lower', 1)\n",
      "(u'look', 1)\n",
      "(u'load', 1)\n",
      "(u'link', 1)\n",
      "(u'linesplit', 1)\n",
      "(u'line', 1)\n",
      "(u'limited', 1)\n",
      "(u'letters', 1)\n",
      "(u'length', 1)\n",
      "(u'lefthand', 1)\n",
      "(u'labeled', 1)\n",
      "(u'jumpstart', 1)\n",
      "(u'javascript', 1)\n",
      "(u'issue', 1)\n",
      "(u'isolines', 1)\n",
      "(u'inverse', 1)\n",
      "(u'interfaces', 1)\n",
      "(u'instance', 1)\n",
      "(u'initializationModerandom', 1)\n",
      "(u'inference', 1)\n",
      "(u'increasing', 1)\n",
      "(u'include', 1)\n",
      "(u'implentation', 1)\n",
      "(u'implementation', 1)\n",
      "(u'if', 1)\n",
      "(u'hyper', 1)\n",
      "(u'hundred', 1)\n",
      "(u'httpswwwdropboxcomsmy3tnhxx7fr5qs0image2028129pngdl0', 1)\n",
      "(u'httpswwwdropboxcoms3xc3kwda6d254l5PlotModelAndDomainSpacesRdl0', 1)\n",
      "(u'httpstackoverflowcomquestions34277967chromerenderingmathjaxequationswithatrailingverticalline', 1)\n",
      "(u'httpsgithubcommathjaxMathJaxissues1300', 1)\n",
      "(u'have', 1)\n",
      "(u'hack', 1)\n",
      "(u'graphs', 1)\n",
      "(u'graph', 1)\n",
      "(u'gradient', 1)\n",
      "(u'good', 1)\n",
      "(u'get', 1)\n",
      "(u'generation', 1)\n",
      "(u'gains', 1)\n",
      "(u'fun', 1)\n",
      "(u'frequncy', 1)\n",
      "(u'framework', 1)\n",
      "(u'form', 1)\n",
      "(u'forget', 1)\n",
      "(u'fix', 1)\n",
      "(u'first', 1)\n",
      "(u'find', 1)\n",
      "(u'final', 1)\n",
      "(u'export', 1)\n",
      "(u'experiments', 1)\n",
      "(u'experiment', 1)\n",
      "(u'experiements', 1)\n",
      "(u'exercises', 1)\n",
      "(u'examples', 1)\n",
      "(u'evaluate', 1)\n",
      "(u'etc', 1)\n",
      "(u'errorpointreducelambda', 1)\n",
      "(u'errorpoint', 1)\n",
      "(u'equivalent', 1)\n",
      "(u'entire', 1)\n",
      "(u'elements', 1)\n",
      "(u'element', 1)\n",
      "(u'either', 1)\n",
      "(u'ed', 1)\n",
      "(u'during', 1)\n",
      "(u'due', 1)\n",
      "(u'drivers', 1)\n",
      "(u'driver', 1)\n",
      "(u'done', 1)\n",
      "(u'documents', 1)\n",
      "(u'distributed', 1)\n",
      "(u'discussions', 1)\n",
      "(u'different', 1)\n",
      "(u'develop', 1)\n",
      "(u'descentafter', 1)\n",
      "(u'descent', 1)\n",
      "(u'def', 1)\n",
      "(u'dataset', 1)\n",
      "(u'datamaplambda', 1)\n",
      "(u'current', 1)\n",
      "(u'creating', 1)\n",
      "(u'corresponding', 1)\n",
      "(u'contour', 1)\n",
      "(u'consists', 1)\n",
      "(u'computing', 1)\n",
      "(u'compute', 1)\n",
      "(u'comment', 1)\n",
      "(u'collection', 1)\n",
      "(u'clusterssavesc', 1)\n",
      "(u'clusterscentersclusterspredictpoint', 1)\n",
      "(u'clustering', 1)\n",
      "(u'change', 1)\n",
      "(u'cell', 1)\n",
      "(u'case', 1)\n",
      "(u'bringing', 1)\n",
      "(u'both', 1)\n",
      "(u'border', 1)\n",
      "(u'big', 1)\n",
      "(u'begin', 1)\n",
      "(u'back', 1)\n",
      "(u'az', 1)\n",
      "(u'axis', 1)\n",
      "(u'arrayfloatx', 1)\n",
      "(u'array', 1)\n",
      "(u'applications', 1)\n",
      "(u'appears', 1)\n",
      "(u'answer', 1)\n",
      "(u'analytics', 1)\n",
      "(u'analysis', 1)\n",
      "(u'also', 1)\n",
      "(u'alphanumerically', 1)\n",
      "(u'algorithms', 1)\n",
      "(u'adds', 1)\n",
      "(u'achieve', 1)\n"
     ]
    }
   ],
   "source": [
    "import sys, re, string, operator\n",
    "\n",
    "def removePunctuation(text):\n",
    "    \"\"\"Removes punctuation, changes to lowercase, and strips leading and trailing spaces.\n",
    "    Note:\n",
    "        Only spaces, letters, and numbers should be retained.  Other characters should should be\n",
    "        eliminated. (e.g. it's becomes its)\n",
    "    Args:\n",
    "        text (str): A string.\n",
    "    Returns:\n",
    "        str: The cleaned up string.\n",
    "    \"\"\"\n",
    "    return re.sub('[^a-z| A-Z |0-9]', '', text.strip())\n",
    "\n",
    "\n",
    "                  \n",
    "def remove_upper(s):\n",
    "    return re.sub(r'(\\A)[^a-z]\\w+', r'\\1', s)\n",
    "\n",
    "wc = sc.textFile('HW3.txt').map(removePunctuation)\n",
    "\n",
    "\n",
    "counts = wc.flatMap(lambda line: line.split(\" \")) \\\n",
    "             .map(lambda word: remove_upper(word)) \\\n",
    "             .map(lambda word: re.sub(r'(\\A)[^a-z]', r'\\1', word)) \\\n",
    "             .filter(lambda word: word != '') \\\n",
    "             .map(lambda word: (word, 1)) \\\n",
    "             .reduceByKey(lambda a, b: a + b) \\\n",
    "             .sortBy(lambda a: (a[1], a[0]), 0)\n",
    "wordCounts = counts.collect()\n",
    "\n",
    "for i in wordCounts:\n",
    "    print i\n",
    "\n"
   ]
  },
  {
   "cell_type": "code",
   "execution_count": 168,
   "metadata": {
    "collapsed": true
   },
   "outputs": [],
   "source": [
    "## Drivers & Runners"
   ]
  },
  {
   "cell_type": "code",
   "execution_count": 87,
   "metadata": {
    "collapsed": true
   },
   "outputs": [],
   "source": [
    "## Run Scripts, S3 Sync"
   ]
  },
  {
   "cell_type": "markdown",
   "metadata": {},
   "source": [
    "<a name=\"HW3.2\"> <h2 style=\"color:darkblue\"> HW3.2: MLlib-centric KMeans</h2>\n",
    "[Back to Table of Contents](#TOC)\n",
    "\n",
    "Using the following  MLlib-centric KMeans code snippet: \n",
    "\n",
    "<pre>\n",
    "from pyspark.mllib.clustering import KMeans, KMeansModel\n",
    "from numpy import array\n",
    "from math import sqrt\n",
    "\n",
    "\n",
    "# Load and parse the data\n",
    "# NOTE  kmeans_data.txt is available here \n",
    "#          https://www.dropbox.com/s/q85t0ytb9apggnh/kmeans_data.txt?dl=0 \n",
    "data = sc.textFile(\"kmeans_data.txt\")  \n",
    "parsedData = data.map(lambda line: array([float(x) for x in line.split(' ')]))\n",
    "\n",
    "# Build the model (cluster the data)\n",
    "clusters = KMeans.train(parsedData, 2, maxIterations=10,\n",
    "        runs=10, initializationMode=\"random\")\n",
    "\n",
    "# Evaluate clustering by computing Within Set Sum of Squared Errors\n",
    "def error(point):\n",
    "    center = clusters.centers[clusters.predict(point)]\n",
    "    return sqrt(sum([x**2 for x in (point - center)]))\n",
    "\n",
    "WSSSE = parsedData.map(lambda point: error(point)).reduce(lambda x, y: x + y)\n",
    "print(\"Within Set Sum of Squared Error = \" + str(WSSSE))\n",
    "\n",
    "# Save and load model\n",
    "clusters.save(sc, \"myModelPath\")\n",
    "sameModel = KMeansModel.load(sc, \"myModelPath\")\n",
    "\n",
    "</pre>\n",
    "\n",
    "__NOTE__ <p> The  __kmeans_data.txt__ is available here https://www.dropbox.com/s/q85t0ytb9apggnh/kmeans_data.txt?dl=0 \n",
    "\n",
    "__TASKS__\n",
    "* Run this code snippet and list the clusters that your find.\n",
    "* compute the Within Set Sum of Squared Errors for the found clusters. Comment on your findings."
   ]
  },
  {
   "cell_type": "code",
   "execution_count": 4,
   "metadata": {
    "collapsed": false
   },
   "outputs": [
    {
     "name": "stdout",
     "output_type": "stream",
     "text": [
      "[array([ 9.1,  9.1,  9.1]), array([ 0.1,  0.1,  0.1])]\n",
      "[array([ 0.,  0.,  0.]), array([ 0.1,  0.1,  0.1]), array([ 0.2,  0.2,  0.2]), array([ 9.,  9.,  9.]), array([ 9.1,  9.1,  9.1]), array([ 9.2,  9.2,  9.2])]\n",
      "Within Set Sum of Squared Error = 0.692820323028\n"
     ]
    }
   ],
   "source": [
    "from pyspark.mllib.clustering import KMeans, KMeansModel\n",
    "from numpy import array\n",
    "from math import sqrt\n",
    "import shutil\n",
    "import os\n",
    "\n",
    "\n",
    " \n",
    "\n",
    "data = sc.textFile(\"kmeans_data.txt\")  \n",
    "parsedData = data.map(lambda line: array([float(x) for x in line.split(' ')]))\n",
    "\n",
    "# Build the model (cluster the data)\n",
    "clusters = KMeans.train(parsedData, 2, maxIterations=10,\n",
    "        runs=10, initializationMode=\"random\")\n",
    "\n",
    "x = clusters.clusterCenters\n",
    "\n",
    "y = parsedData.collect()\n",
    "\n",
    "print x\n",
    "print y\n",
    "\n",
    "# Evaluate clustering by computing Within Set Sum of Squared Errors\n",
    "def error(point):\n",
    "    center = clusters.centers[clusters.predict(point)]\n",
    "    return sqrt(sum([x**2 for x in (point - center)]))\n",
    "\n",
    "WSSSE = parsedData.map(lambda point: error(point)).reduce(lambda x, y: x + y)\n",
    "print(\"Within Set Sum of Squared Error = \" + str(WSSSE))\n",
    "\n",
    "\n",
    "if os.path.exists('myModelPath') == True:\n",
    "    shutil.rmtree('myModelPath')\n",
    "\n",
    "clusters.save(sc, \"myModelPath\")\n",
    "sameModel = KMeansModel.load(sc, \"myModelPath\")\n",
    "\n"
   ]
  },
  {
   "cell_type": "markdown",
   "metadata": {},
   "source": [
    "<a name=\"HW3.3\"><h2 style=\"color:darkgreen\"> HW3.3: Homegrown KMeans in Spark </h2>\n",
    "[Back to Table of Contents](#TOC)\n",
    "\n",
    "Download the following KMeans [notebook](http://nbviewer.jupyter.org/urls/dl.dropbox.com/s/3nsthvp8g2rrrdh/EM-Kmeans.ipynb).\n",
    "\n",
    "Generate 3 clusters with 100 (one hundred) data points per cluster (using the code provided). Plot the data.\n",
    "Then run MLlib's Kmean implementation on this data  and report your results as follows:\n",
    "\n",
    "* plot the resulting clusters after 1 iteration, 10 iterations, after 20 iterations, after 100 iterations.\n",
    "* in each plot please report the Within Set Sum of Squared Errors for the found clusters (as part of the title WSSSE). Comment on the progress of this measure as  the KMEans algorithms runs for more iterations. Then plot the WSSSE as a function of the iteration (1, 10, 20, 30, 40, 50, 100).\n",
    "\n"
   ]
  },
  {
   "cell_type": "code",
   "execution_count": 4,
   "metadata": {
    "collapsed": true
   },
   "outputs": [],
   "source": [
    "%matplotlib inline\n",
    "import numpy as np\n",
    "from math import sqrt\n",
    "import pylab \n",
    "import json"
   ]
  },
  {
   "cell_type": "code",
   "execution_count": 5,
   "metadata": {
    "collapsed": true
   },
   "outputs": [],
   "source": [
    "size1 = size2 = size3 = 100\n",
    "samples1 = np.random.multivariate_normal([4, 0], [[1, 0],[0, 1]], size1)\n",
    "data = samples1\n",
    "samples2 = np.random.multivariate_normal([6, 6], [[1, 0],[0, 1]], size2)\n",
    "data = np.append(data,samples2, axis=0)\n",
    "samples3 = np.random.multivariate_normal([0, 4], [[1, 0],[0, 1]], size3)\n",
    "data = np.append(data,samples3, axis=0)\n",
    "# Randomlize data\n",
    "data = data[np.random.permutation(size1+size2+size3),]\n",
    "np.savetxt('data.csv',data,delimiter = ',')"
   ]
  },
  {
   "cell_type": "code",
   "execution_count": 6,
   "metadata": {
    "collapsed": false
   },
   "outputs": [
    {
     "data": {
      "image/png": "[encoded data removed]",
      "text/plain": [
       "<matplotlib.figure.Figure at 0x3ce7da0>"
      ]
     },
     "metadata": {},
     "output_type": "display_data"
    }
   ],
   "source": [
    "pylab.plot(samples1[:, 0], samples1[:, 1],'*', color = 'red')\n",
    "pylab.plot(samples2[:, 0], samples2[:, 1],'o',color = 'blue')\n",
    "pylab.plot(samples3[:, 0], samples3[:, 1],'+',color = 'green')\n",
    "pylab.show()"
   ]
  },
  {
   "cell_type": "code",
   "execution_count": 7,
   "metadata": {
    "collapsed": true
   },
   "outputs": [],
   "source": [
    "#plot centroids and data points for each iteration\n",
    "def plot_iteration(means):\n",
    "    pylab.plot(samples1[:, 0], samples1[:, 1], '.', color = 'blue')\n",
    "    pylab.plot(samples2[:, 0], samples2[:, 1], '.', color = 'blue')\n",
    "    pylab.plot(samples3[:, 0], samples3[:, 1],'.', color = 'blue')\n",
    "    pylab.plot(means[0][0], means[0][1],'*',markersize =10,color = 'red')\n",
    "    pylab.plot(means[1][0], means[1][1],'*',markersize =10,color = 'red')\n",
    "    pylab.plot(means[2][0], means[2][1],'*',markersize =10,color = 'red')\n",
    "    pylab.show()"
   ]
  },
  {
   "cell_type": "code",
   "execution_count": 19,
   "metadata": {
    "collapsed": false
   },
   "outputs": [],
   "source": [
    "from pyspark.mllib.clustering import KMeans, KMeansModel\n",
    "from numpy import array\n",
    "from math import sqrt\n",
    "\n",
    "# Evaluate clustering by computing Within Set Sum of Squared Errors\n",
    "def error(point):\n",
    "    center = clusters.centers[clusters.predict(point)]\n",
    "    return sqrt(sum([x**2 for x in (point - center)]))\n",
    "\n",
    "clusters = None\n",
    "iter_num = 0\n",
    "iter_data = []\n",
    "WSSSE = []\n",
    "data = sc.textFile(\"data.csv\")  \n",
    "parsedData = data.map(lambda line: array([float(x) for x in line.split(',')])).cache()\n",
    "\n",
    "for i in range(100):\n",
    "# Build the model (cluster the data)\n",
    "    clusters = KMeans.train(parsedData, 3, maxIterations=i,\n",
    "        runs=1, initializationMode=\"random\")\n",
    "    WSSSE_mllib = parsedData.map(lambda point: error(point)).reduce(lambda x, y: x + y)\n",
    "        #print(\"Within Set Sum of Squared Error = \" + str(wssse))\n",
    "    iter_data.append([iter_num, clusters.clusterCenters, WSSSE_mllib])\n",
    "    #plot_iteration(centroids)\n",
    "    iter_num = iter_num + 1\n",
    "\n",
    "    \n",
    "\n"
   ]
  },
  {
   "cell_type": "code",
   "execution_count": 20,
   "metadata": {
    "collapsed": false
   },
   "outputs": [
    {
     "name": "stdout",
     "output_type": "stream",
     "text": [
      "Iteration0\n",
      "[array([ 3.77055162, -0.35286185]), array([ 3.90446295,  0.45538387]), array([-0.09094977,  3.39273999])]\n",
      "Within Set Sum of Squared Error = 833.567046836\n"
     ]
    },
    {
     "data": {
      "image/png": "[encoded data removed]",
      "text/plain": [
       "<matplotlib.figure.Figure at 0x9c4c780>"
      ]
     },
     "metadata": {},
     "output_type": "display_data"
    },
    {
     "name": "stdout",
     "output_type": "stream",
     "text": [
      "Iteration9\n",
      "[array([ 0.02521319,  4.10241521]), array([ 5.97943386,  5.90759386]), array([ 4.04848875,  0.01226935])]\n",
      "Within Set Sum of Squared Error = 379.648572828\n"
     ]
    },
    {
     "data": {
      "image/png": "[encoded data removed]",
      "text/plain": [
       "<matplotlib.figure.Figure at 0xb5f0be0>"
      ]
     },
     "metadata": {},
     "output_type": "display_data"
    },
    {
     "name": "stdout",
     "output_type": "stream",
     "text": [
      "Iteration19\n",
      "[array([ 5.97943386,  5.90759386]), array([ 0.02521319,  4.10241521]), array([ 4.04848875,  0.01226935])]\n",
      "Within Set Sum of Squared Error = 379.648572828\n"
     ]
    },
    {
     "data": {
      "image/png": "[encoded data removed]",
      "text/plain": [
       "<matplotlib.figure.Figure at 0x991a0b8>"
      ]
     },
     "metadata": {},
     "output_type": "display_data"
    },
    {
     "name": "stdout",
     "output_type": "stream",
     "text": [
      "Iteration99\n",
      "[array([ 0.02521319,  4.10241521]), array([ 4.04848875,  0.01226935]), array([ 5.97943386,  5.90759386])]\n",
      "Within Set Sum of Squared Error = 379.648572828\n"
     ]
    },
    {
     "data": {
      "image/png": "[encoded data removed]",
      "text/plain": [
       "<matplotlib.figure.Figure at 0xa2c67f0>"
      ]
     },
     "metadata": {},
     "output_type": "display_data"
    },
    {
     "name": "stdout",
     "output_type": "stream",
     "text": [
      "Final Results:\n",
      "[array([ 0.02521319,  4.10241521]), array([ 4.04848875,  0.01226935]), array([ 5.97943386,  5.90759386])]\n",
      "Within Set Sum of Squared Error = 379.648572828\n"
     ]
    }
   ],
   "source": [
    "plot_list = [0, 9, 19, 99]\n",
    "\n",
    "for i in iter_data:\n",
    "    if i[0] in plot_list:\n",
    "        print \"Iteration\" + str(i[0])\n",
    "        print i[1]\n",
    "        print(\"Within Set Sum of Squared Error = \" + str(i[2]))\n",
    "        plot_iteration(i[1])\n",
    "\n",
    "\n",
    "print \"Final Results:\"\n",
    "print clusters.clusterCenters\n",
    "print(\"Within Set Sum of Squared Error = \" + str(WSSSE_mllib)) "
   ]
  },
  {
   "cell_type": "code",
   "execution_count": 21,
   "metadata": {
    "collapsed": false
   },
   "outputs": [
    {
     "data": {
      "image/png": "[encoded data removed]",
      "text/plain": [
       "<matplotlib.figure.Figure at 0x9ed5710>"
      ]
     },
     "metadata": {},
     "output_type": "display_data"
    }
   ],
   "source": [
    "wssse_list = [0, 9, 19, 29, 39, 49, 99]\n",
    "pl_x = []\n",
    "pl_y = []\n",
    "for i in iter_data:\n",
    "    if i[0] in wssse_list:\n",
    "        pl_x.append(i[0])\n",
    "        pl_y.append(i[2])\n",
    "        \n",
    "pylab.plot(pl_x, pl_y,linewidth=2.0, color = 'red')\n",
    "\n",
    "pylab.show()"
   ]
  },
  {
   "cell_type": "markdown",
   "metadata": {},
   "source": [
    "#### The code runs fine.  It appears that by 10 iterations it has reached the minimum error.  Since mllib is designed to to the looping for you the code above seems like a waste of time versus just having mllib kmeans compute the final cluster centers."
   ]
  },
  {
   "cell_type": "markdown",
   "metadata": {},
   "source": [
    "<a name=\"HW3.4\"><h2 style=\"color:darkblue\"> HW3.4: KMeans Experiments  </h2>\n",
    "[Back to Table of Contents](#TOC)\n",
    "\n",
    "Using this provided [homegrown Kmeans code](http://nbviewer.jupyter.org/urls/dl.dropbox.com/s/3nsthvp8g2rrrdh/EM-Kmeans.ipynb)   repeat the experiments in HW3.3. Explain any differences between the results in HW3.3 and HW3.4. "
   ]
  },
  {
   "cell_type": "code",
   "execution_count": 8,
   "metadata": {
    "collapsed": true
   },
   "outputs": [],
   "source": [
    "from numpy import array\n",
    "from math import sqrt\n",
    "#Calculate which class each data point belongs to\n",
    "def nearest_centroid(line):\n",
    "    x = np.array([float(f) for f in line.split(',')])\n",
    "    closest_centroid_idx = np.sum((x - centroids)**2, axis=1).argmin()\n",
    "    #print centroids[closest_centroid_idx]\n",
    "    return (closest_centroid_idx,(x,1))\n",
    "\n",
    "\n",
    "def error(line):\n",
    "    x = np.array([float(f) for f in line.split(',')])\n",
    "    closest_centroid_idx = np.sum((x - centroids)**2, axis=1).argmin()\n",
    "    err = sqrt(np.sum((x-centroids[closest_centroid_idx])**2))\n",
    "    return (closest_centroid_idx, err)\n",
    "#I am not calculating the square root because that is not part of the formula according to stack overflow\n"
   ]
  },
  {
   "cell_type": "code",
   "execution_count": 9,
   "metadata": {
    "collapsed": false
   },
   "outputs": [],
   "source": [
    "# Initialization: initialization of parameter is fixed to show an example\n",
    "centroids = np.array([[0.0,0.0],[2.0,2.0],[0.0,7.0]])\n",
    "\n",
    "\n",
    "D = sc.textFile(\"data.csv\").cache()\n",
    "\n",
    "iter_num = 0\n",
    "iter_data = []\n",
    "for i in range(100):  \n",
    "    err = D.map(error).reduceByKey(lambda x,y: x+y).collect()   \n",
    "    res = D.map(nearest_centroid).reduceByKey(lambda x,y : (x[0]+y[0],x[1]+y[1])).collect()\n",
    "    #res [(0, (array([  2.66546663e+00,   3.94844436e+03]), 1001)  ), \n",
    "    #     (2, (array([ 6023.84995923,  5975.48511018]), 1000)), \n",
    "    #     (1, (array([ 3986.85984761,    15.93153464]), 999))]\n",
    "    # res[1][1][1] returns 1000 here\n",
    "    res = sorted(res,key = lambda x : x[0])  #sort based on clusted ID\n",
    "    centroids_new = np.array([x[1][0]/x[1][1] for x in res])  #divide by cluster size\n",
    "    wssse = 0\n",
    "    for i in err:\n",
    "        wssse += i[1]\n",
    "    #if np.sum(np.absolute(centroids_new-centroids))<0.01:\n",
    "    #    break\n",
    "    #print \"Iteration\" + str(iter_num)\n",
    "    centroids = centroids_new\n",
    "    #print centroids\n",
    "    #print(\"Within Set Sum of Squared Error = \" + str(wssse))\n",
    "    iter_data.append([iter_num, centroids, wssse])\n",
    "    #plot_iteration(centroids)\n",
    "    iter_num = iter_num + 1\n",
    "\n",
    "   \n",
    "\n",
    "\n",
    "\n"
   ]
  },
  {
   "cell_type": "code",
   "execution_count": 11,
   "metadata": {
    "collapsed": false
   },
   "outputs": [
    {
     "name": "stdout",
     "output_type": "stream",
     "text": [
      "Iteration0\n",
      "[[ 0.77468493  0.28549242]\n",
      " [ 4.05403659  2.6342227 ]\n",
      " [ 2.04199662  5.64363657]]\n",
      "Within Set Sum of Squared Error = 1086.89823665\n"
     ]
    },
    {
     "data": {
      "image/png": "[encoded data removed]",
      "text/plain": [
       "<matplotlib.figure.Figure at 0x999b550>"
      ]
     },
     "metadata": {},
     "output_type": "display_data"
    },
    {
     "name": "stdout",
     "output_type": "stream",
     "text": [
      "Iteration9\n",
      "[[ 4.04848875  0.01226935]\n",
      " [ 5.97943386  5.90759386]\n",
      " [ 0.02521319  4.10241521]]\n",
      "Within Set Sum of Squared Error = 379.648572828\n"
     ]
    },
    {
     "data": {
      "image/png": "[encoded data removed]",
      "text/plain": [
       "<matplotlib.figure.Figure at 0x9be4908>"
      ]
     },
     "metadata": {},
     "output_type": "display_data"
    },
    {
     "name": "stdout",
     "output_type": "stream",
     "text": [
      "Iteration19\n",
      "[[ 4.04848875  0.01226935]\n",
      " [ 5.97943386  5.90759386]\n",
      " [ 0.02521319  4.10241521]]\n",
      "Within Set Sum of Squared Error = 379.648572828\n"
     ]
    },
    {
     "data": {
      "image/png": "[encoded data removed]",
      "text/plain": [
       "<matplotlib.figure.Figure at 0x9c5b5c0>"
      ]
     },
     "metadata": {},
     "output_type": "display_data"
    },
    {
     "name": "stdout",
     "output_type": "stream",
     "text": [
      "Iteration99\n",
      "[[ 4.04848875  0.01226935]\n",
      " [ 5.97943386  5.90759386]\n",
      " [ 0.02521319  4.10241521]]\n",
      "Within Set Sum of Squared Error = 379.648572828\n"
     ]
    },
    {
     "data": {
      "image/png": "[encoded data removed]",
      "text/plain": [
       "<matplotlib.figure.Figure at 0x9c98ac8>"
      ]
     },
     "metadata": {},
     "output_type": "display_data"
    },
    {
     "name": "stdout",
     "output_type": "stream",
     "text": [
      "Final Results:\n",
      "[[ 4.04848875  0.01226935]\n",
      " [ 5.97943386  5.90759386]\n",
      " [ 0.02521319  4.10241521]]\n",
      "Within Set Sum of Squared Error = 379.648572828\n"
     ]
    }
   ],
   "source": [
    "plot_list = [0, 9, 19, 99]\n",
    "\n",
    "for i in iter_data:\n",
    "    if i[0] in plot_list:\n",
    "        print \"Iteration\" + str(i[0])\n",
    "        print i[1]\n",
    "        print(\"Within Set Sum of Squared Error = \" + str(i[2]))\n",
    "        plot_iteration(i[1])\n",
    "\n",
    "\n",
    "print \"Final Results:\"\n",
    "print centroids\n",
    "print(\"Within Set Sum of Squared Error = \" + str(wssse)) "
   ]
  },
  {
   "cell_type": "code",
   "execution_count": 18,
   "metadata": {
    "collapsed": false
   },
   "outputs": [
    {
     "data": {
      "image/png": "[encoded data removed]",
      "text/plain": [
       "<matplotlib.figure.Figure at 0x9cc5d30>"
      ]
     },
     "metadata": {},
     "output_type": "display_data"
    }
   ],
   "source": [
    "wssse_list = [0, 9, 19, 29, 39, 49, 99]\n",
    "pl_x = []\n",
    "pl_y = []\n",
    "for i in iter_data:\n",
    "    if i[0] in wssse_list:\n",
    "        pl_x.append(i[0])\n",
    "        pl_y.append(i[2])\n",
    "        \n",
    "pylab.plot(pl_x, pl_y,linewidth=2.0, color = 'red')\n",
    "\n",
    "pylab.show()"
   ]
  },
  {
   "cell_type": "markdown",
   "metadata": {
    "collapsed": true
   },
   "source": [
    "I get the same WSSSE in the KMeans mllib model and in the homegrown model.  The mllib model runs faster, but does not appear to provide visibility to each iteration"
   ]
  },
  {
   "cell_type": "markdown",
   "metadata": {},
   "source": [
    "<a name=\"HW3.4.1\"><h2 style=\"color:darkblue\"> HW3.4.1: Making Homegrown KMeans more efficient  </h2>\n",
    "[Back to Table of Contents](#TOC)\n",
    "\n",
    "The above provided homegrown KMeans implentation in not the most efficient. How can you make it more efficient? Make this change in the code and show it work and comment on the gains you achieve. "
   ]
  },
  {
   "cell_type": "markdown",
   "metadata": {},
   "source": [
    "### HINT: have a look at  [this linear regression notebook](    http://nbviewer.jupyter.org/urls/dl.dropbox.com/s/atzqkc0p1eajuz6/LinearRegression-Notebook-Challenge.ipynb)"
   ]
  },
  {
   "cell_type": "code",
   "execution_count": 14,
   "metadata": {
    "collapsed": true
   },
   "outputs": [],
   "source": [
    "testRDD = sc.textFile(\"data.csv\",1)"
   ]
  },
  {
   "cell_type": "code",
   "execution_count": 15,
   "metadata": {
    "collapsed": false
   },
   "outputs": [],
   "source": [
    "import numpy as np\n",
    "from math import sqrt\n",
    "plot_list = [0, 9, 19, 99]\n",
    "\n",
    "\n",
    "\n",
    "def kmeans(data,initial=None,iterations=100):\n",
    "    RDD = data.map(lambda row: map(lambda x: float(x), row.split(\",\"))).cache()\n",
    "    if initial is None:\n",
    "        ctr = np.array([[0.0,0.0],[2.0,2.0],[0.0,7.0]])\n",
    "    else:\n",
    "        ctr = initial\n",
    "    \n",
    "    for i in range(iterations):\n",
    "        centroid_broad = sc.broadcast(ctr)\n",
    "        closest_centroid = RDD.map(lambda x: (np.sum((x - centroid_broad.value)**2, axis=1).argmin(), x)) \n",
    "        centroid_count = closest_centroid.countByKey() \n",
    "        agg_centroid = closest_centroid.reduceByKey(lambda a, b: [a[0]+b[0],a[1]+b[1]]).collect()\n",
    "        new_centroid = np.array([np.array(x[1])/centroid_count[x[0]] for x in agg_centroid])\n",
    "        wssse = closest_centroid.map(lambda x: (0,sqrt(np.sum((x[1]-centroid_broad.value[x[0]])**2)))).reduceByKey(lambda a, b: a+b).collect()\n",
    "        ctr = new_centroid\n",
    "        if i in plot_list:\n",
    "            print \"Round: \" + str(i)\n",
    "            print \"New Centroids: \" + str(ctr)\n",
    "            print \"WSSSE: \" + str(wssse[0][1])\n",
    "            plot_iteration(ctr)\n",
    "            \n"
   ]
  },
  {
   "cell_type": "code",
   "execution_count": 16,
   "metadata": {
    "collapsed": false
   },
   "outputs": [
    {
     "name": "stdout",
     "output_type": "stream",
     "text": [
      "Round: 0\n",
      "New Centroids: [[ 0.77468493  0.28549242]\n",
      " [ 4.05403659  2.6342227 ]\n",
      " [ 2.04199662  5.64363657]]\n",
      "WSSSE: 1086.89823665\n"
     ]
    },
    {
     "data": {
      "image/png": "[encoded data removed]",
      "text/plain": [
       "<matplotlib.figure.Figure at 0xa448320>"
      ]
     },
     "metadata": {},
     "output_type": "display_data"
    },
    {
     "name": "stdout",
     "output_type": "stream",
     "text": [
      "Round: 9\n",
      "New Centroids: [[ 4.04848875  0.01226935]\n",
      " [ 5.97943386  5.90759386]\n",
      " [ 0.02521319  4.10241521]]\n",
      "WSSSE: 379.648572828\n"
     ]
    },
    {
     "data": {
      "image/png": "[encoded data removed]",
      "text/plain": [
       "<matplotlib.figure.Figure at 0xa42e278>"
      ]
     },
     "metadata": {},
     "output_type": "display_data"
    },
    {
     "name": "stdout",
     "output_type": "stream",
     "text": [
      "Round: 19\n",
      "New Centroids: [[ 4.04848875  0.01226935]\n",
      " [ 5.97943386  5.90759386]\n",
      " [ 0.02521319  4.10241521]]\n",
      "WSSSE: 379.648572828\n"
     ]
    },
    {
     "data": {
      "image/png": "[encoded data removed]",
      "text/plain": [
       "<matplotlib.figure.Figure at 0x9bf0550>"
      ]
     },
     "metadata": {},
     "output_type": "display_data"
    },
    {
     "name": "stdout",
     "output_type": "stream",
     "text": [
      "Round: 99\n",
      "New Centroids: [[ 4.04848875  0.01226935]\n",
      " [ 5.97943386  5.90759386]\n",
      " [ 0.02521319  4.10241521]]\n",
      "WSSSE: 379.648572828\n"
     ]
    },
    {
     "data": {
      "image/png": "[encoded data removed]",
      "text/plain": [
       "<matplotlib.figure.Figure at 0x9a4fe80>"
      ]
     },
     "metadata": {},
     "output_type": "display_data"
    }
   ],
   "source": [
    "kmeans(testRDD)"
   ]
  },
  {
   "cell_type": "code",
   "execution_count": 17,
   "metadata": {
    "collapsed": false
   },
   "outputs": [
    {
     "data": {
      "image/png": "[encoded data removed]",
      "text/plain": [
       "<matplotlib.figure.Figure at 0xa2caf28>"
      ]
     },
     "metadata": {},
     "output_type": "display_data"
    }
   ],
   "source": [
    "\n",
    "pl_x = [0, 9, 19, 99]\n",
    "pl_y = [1087, 380, 380, 380]\n",
    "\n",
    "        \n",
    "pylab.plot(pl_x, pl_y,linewidth=2.0, color = 'red')\n",
    "\n",
    "pylab.show()"
   ]
  },
  {
   "cell_type": "markdown",
   "metadata": {},
   "source": [
    "#### The updated code runs faster than my code in 3.3.  I make more efficient use of the reducer in my code for 3.4, meaning more straightforward code.  It can be further improved by adding a code to break when the centroids stop changing, but I left that out as the homework specifies 100 runs"
   ]
  },
  {
   "cell_type": "markdown",
   "metadata": {},
   "source": [
    "<a name=\"HW3.5\"><h2 style=\"color:darkgreen\"> HW3.5: OPTIONAL Weighted KMeans  </h2>\n",
    "[Back to Table of Contents](#TOC)\n",
    "\n",
    "Using this provided [homegrown Kmeans code](http://nbviewer.jupyter.org/urls/dl.dropbox.com/s/3nsthvp8g2rrrdh/EM-Kmeans.ipynb), modify it to do a weighted KMeans and repeat the experiements in HW3.3. Explain  any differences between the results in HW3.3 and HW3.5.\n",
    "\n",
    "NOTE: Weight each example as follows using the inverse vector length (Euclidean norm): \n",
    "\n",
    "> weight(X)= 1/||X||, \n",
    "\n",
    "where ||X|| = SQRT(X.X)= SQRT(X1^2 + X2^2)\n",
    "\n",
    "Here X is vector made up of two values X1 and X2.\n",
    "\n",
    "__[Please incorporate all referenced notebooks directly into this master notebook as cells for HW submission. I.e., HW submissions should comprise of just one notebook]__"
   ]
  },
  {
   "cell_type": "code",
   "execution_count": 100,
   "metadata": {
    "collapsed": true
   },
   "outputs": [],
   "source": [
    "## Code goes here"
   ]
  },
  {
   "cell_type": "code",
   "execution_count": 101,
   "metadata": {
    "collapsed": true
   },
   "outputs": [],
   "source": [
    "## Drivers & Runners"
   ]
  },
  {
   "cell_type": "code",
   "execution_count": 102,
   "metadata": {
    "collapsed": true
   },
   "outputs": [],
   "source": [
    "## Run Scripts, S3 Sync"
   ]
  },
  {
   "cell_type": "markdown",
   "metadata": {},
   "source": [
    "<a name=\"HW3.6\"><h2 style=\"color:darkblue\"> HW3.6 OPTIONAL Linear Regression</h2>\n",
    "[Back to Table of Contents](#TOC)\n",
    "<a name=\"HW3.6.1\"><h2 style=\"color:darkblue\"> HW3.6.1 OPTIONAL Linear Regression</h2>\n",
    "[Back to Table of Contents](#TOC)\n",
    "\n",
    "Using [this linear regression notebook](    http://nbviewer.jupyter.org/urls/dl.dropbox.com/s/atzqkc0p1eajuz6/LinearRegression-Notebook-Challenge.ipynb):\n",
    "\n",
    "\n",
    "* Generate 2 sets of data with 100 data points using the data generation code provided and plot each in separate plots. Call one the training set and the other the testing set.\n",
    "\n",
    "* Using MLLib's LinearRegressionWithSGD train up a linear regression model with the training dataset and evaluate with the testing set. What a good number of iterations for training the linear regression model? Justify with plots (e.g., plot MSE as a function of the number of iterations) and words. \n"
   ]
  },
  {
   "cell_type": "markdown",
   "metadata": {},
   "source": [
    "<a name=\"HW3.6.2\"><h2 style=\"color:darkblue\"> HW3.6.2 OPTIONAL Linear Regression</h2>\n",
    "[Back to Table of Contents](#TOC)\n",
    "\n",
    "In the notebook provided above, in the cell labeled \"Gradient descent (regularization)\".\n",
    "\n",
    "* Fill in the blanks and get this code to work for LASS0 and RIDGE linear regression.\n",
    "\n",
    "* Using the data from 3.6.1 tune the hyper parameters of your LASS0 and RIDGE regression. Report your findings with words and plots."
   ]
  },
  {
   "cell_type": "code",
   "execution_count": 103,
   "metadata": {
    "collapsed": true
   },
   "outputs": [],
   "source": [
    "## Code goes here"
   ]
  },
  {
   "cell_type": "code",
   "execution_count": 104,
   "metadata": {
    "collapsed": true
   },
   "outputs": [],
   "source": [
    "## Drivers & Runners"
   ]
  },
  {
   "cell_type": "code",
   "execution_count": 105,
   "metadata": {
    "collapsed": true
   },
   "outputs": [],
   "source": [
    "## Run Scripts, S3 Sync"
   ]
  },
  {
   "cell_type": "markdown",
   "metadata": {},
   "source": [
    "<a name=\"HW3.7\"><h2 style=\"color:darkgreen\"> HW3.7 OPTIONAL Error surfaces </h2>\n",
    "[Back to Table of Contents](#TOC)\n",
    "\n",
    "Here is a link to R code with 1 test drivers that plots the linear regression model in  model space and in the domain space:\n",
    "\n",
    "> https://www.dropbox.com/s/3xc3kwda6d254l5/PlotModelAndDomainSpaces.R?dl=0\n",
    "\n",
    "Here is a sample output from this script: \n",
    "      \n",
    "> https://www.dropbox.com/s/my3tnhxx7fr5qs0/image%20%281%29.png?dl=0\n",
    "\n",
    "Please use this as inspiration and code a equivalent error surface and heatmap (with isolines) in Spark and show the trajectory of learning taken during gradient descent(after each n-iterations of Gradient Descent):\n",
    "\n",
    "\n",
    "Using Spark and  Python (using the above R Script as inspiration), plot the error surface for the linear regression model using a heatmap and contour plot. \n",
    "Also plot the current model in the original domain space for every 10th iteration.  Plot them side by side if possible  for each iteration: lefthand side plot is the model space(w0 and w01) and the righthand side plot is domain space (plot the corresponding model and training data in the problem domain space) with a final pair of graphs showing the entire trajectory in the model and domain space. Make sure to label your plots with iteration numbers, function, model space versus original domain space, MSE on the training data etc.\n",
    "\n",
    "Also plot the MSE as a function of each iteration (possibly every 10th iteration). Dont forget to label both axis and the graph also. __[Please incorporate all referenced notebooks directly into this master notebook as cells for HW submission. I.e., HW submissions should comprise of just one notebook]__\n",
    "\n",
    "\n",
    "\n"
   ]
  },
  {
   "cell_type": "code",
   "execution_count": 3,
   "metadata": {
    "collapsed": false
   },
   "outputs": [],
   "source": [
    "## Code goes here"
   ]
  },
  {
   "cell_type": "code",
   "execution_count": 107,
   "metadata": {
    "collapsed": true
   },
   "outputs": [],
   "source": [
    "## Drivers & Runners"
   ]
  },
  {
   "cell_type": "code",
   "execution_count": 108,
   "metadata": {
    "collapsed": true
   },
   "outputs": [],
   "source": [
    "## Run Scripts, S3 Sync"
   ]
  },
  {
   "cell_type": "markdown",
   "metadata": {},
   "source": [
    "[Back to Table of Contents](#TOC)\n",
    "<center><div class='jumbotron'><h2 style='color:green'>-------  END OF HWK 9 --------</h2></div></center>"
   ]
  }
 ],
 "metadata": {
  "kernelspec": {
   "display_name": "Python 2",
   "language": "python",
   "name": "python2"
  },
  "language_info": {
   "codemirror_mode": {
    "name": "ipython",
    "version": 2
   },
   "file_extension": ".py",
   "mimetype": "text/x-python",
   "name": "python",
   "nbconvert_exporter": "python",
   "pygments_lexer": "ipython2",
   "version": "2.7.11"
  }
 },
 "nbformat": 4,
 "nbformat_minor": 0
}
